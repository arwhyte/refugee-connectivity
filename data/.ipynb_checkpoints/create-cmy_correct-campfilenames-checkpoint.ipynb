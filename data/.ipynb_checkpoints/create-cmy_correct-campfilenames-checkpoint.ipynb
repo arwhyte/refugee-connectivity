{
 "cells": [
  {
   "cell_type": "code",
   "execution_count": 18,
   "metadata": {},
   "outputs": [],
   "source": [
    "import pandas as pd\n",
    "\n",
    "app_u = pd.read_csv('application_usage.csv')\n",
    "camp_d = pd.read_csv('camp_demographics.csv')\n",
    "camp = pd.read_csv('camp.csv')\n",
    "daily_u = pd.read_csv('daily_usage_per_camp.csv')\n",
    "hourly_u = pd.read_csv('hourly_usage_per_camp.csv')\n",
    "monthly_u = pd.read_csv('monthly_usage_per_camp.csv')\n",
    "nationality = pd.read_csv('refugee_nationality.csv')"
   ]
  },
  {
   "cell_type": "code",
   "execution_count": 19,
   "metadata": {},
   "outputs": [],
   "source": [
    "dfsnocamp = [app_u,camp_d,daily_u,hourly_u,monthly_u,nationality]"
   ]
  },
  {
   "cell_type": "code",
   "execution_count": 20,
   "metadata": {},
   "outputs": [],
   "source": [
    "ultimatelist = camp.camp_file_name.unique()\n",
    "ul = list(ultimatelist)"
   ]
  },
  {
   "cell_type": "code",
   "execution_count": 21,
   "metadata": {},
   "outputs": [
    {
     "name": "stdout",
     "output_type": "stream",
     "text": [
      "1: Adavesci_SRB_010, Alexandria_GRE_003, Andravida_GRE_008, Eleonas_GRE_013 , Koutsochero_GRE_028 , Lagkadikia_GRE_029 , Lavrio-New_GRE_030 \n",
      "7\n",
      "----------\n",
      "2: \n",
      "0\n",
      "----------\n",
      "3: Eleonas_GRE_013 , Adavesci_SRB_010, Alexandria_GRE_003, Andravida_GRE_008, Koutsochero_GRE_028 , Lagkadikia_GRE_029 , Lavrio-New_GRE_030 , XXSouda_Samns_Purse\n",
      "8\n",
      "----------\n",
      "4: Eleonas_GRE_013 , Adavesci_SRB_010, Alexandria_GRE_003, Andravida_GRE_008, Koutsochero_GRE_028 , Lagkadikia_GRE_029 , Lavrio-New_GRE_030 , XXSouda_Samns_Purse\n",
      "8\n",
      "----------\n",
      "5: Adavesci_SRB_010, Alexandria_GRE_003, Andravida_GRE_008, Eleonas_GRE_013 , Koutsochero_GRE_028 , Lagkadikia_GRE_029 , Lavrio-New_GRE_030 \n",
      "7\n",
      "----------\n",
      "6: Eleonas_GRE_013 , Koutsochero_GRE_028 , Lagkadikia_GRE_029 , Lavrio-New_GRE_030 , Kavala_GRE_024 \n",
      "5\n",
      "----------\n"
     ]
    }
   ],
   "source": [
    "def incorrectnames(df): \n",
    "    ls = list(df.campfilename.unique())\n",
    "    incorrect = []\n",
    "    for camp in ls:\n",
    "        if camp not in ul:\n",
    "            incorrect.append(camp)\n",
    "    return incorrect\n",
    "\n",
    "accum = 1\n",
    "for df in dfsnocamp:\n",
    "    incorrect = incorrectnames(df)\n",
    "    print(str(accum)+': '+', '.join(incorrect))\n",
    "    print(len(incorrect))\n",
    "    print('-'*10)\n",
    "    accum+=1\n"
   ]
  },
  {
   "cell_type": "code",
   "execution_count": 22,
   "metadata": {},
   "outputs": [
    {
     "data": {
      "text/plain": [
       "array(['Alexandria-Ref_GRE_003', 'Diavata_GRE_008', 'XXDoliana_GRE_007',\n",
       "       'Eleonas_GRE_013', 'XXFilipiada_GRE_019', 'Kato-Milia_GRE_061',\n",
       "       'XXKonitsa_GRE_026', 'Koutsochero_GRE_028', 'Lagkadikia_GRE_029',\n",
       "       'Lavrio-New_GRE_030', 'Leros-Lepida_GRE_032', 'Moria_GRE_001',\n",
       "       'Nea-Kavala_GRE_034', 'XXPikpa-Leros_GRE_038',\n",
       "       'Skaramangas_GRE_014', 'Vathi-Samos_GRE_053',\n",
       "       'XXVial-Chios-NRC_GRE_066', 'Andravida_GRE_004',\n",
       "       'XXDerveni-Alexil_GRE_007', 'XXElliniko-Hocky_GRE_016',\n",
       "       'XXIliadi_GRE_020', 'XXMalakasa-MC_GRE_012',\n",
       "       'XXOlympic-Stadium_GRE_035', 'Rafina_GRE_039', 'Ritsona_GRE_040',\n",
       "       'XXSindos-Frakapore_GRE_043', 'XXSoftex_GRE_045',\n",
       "       'XXSouda-Samns-Purse_GRE_046', 'XXTrikala_GRE_048',\n",
       "       'Veria_GRE_054', 'Kos_GRE_027', 'Volos_GRE_055',\n",
       "       'XXCherso_GRE_005', 'Drama_GRE_011', 'Kavala_GRE_024',\n",
       "       'Serres_GRE_042', 'Adasevci_SRB_010', 'Bujanovac_SRB_001',\n",
       "       'Divljana_SRB_002', 'Kikinda_SRB_007', 'Krnjaca_SRB_003',\n",
       "       'Obrenovac_SRB_011', 'Pirot_SRB_005', 'Presevo_SRB_006',\n",
       "       'Sombor_SRB_008'], dtype=object)"
      ]
     },
     "execution_count": 22,
     "metadata": {},
     "output_type": "execute_result"
    }
   ],
   "source": [
    "ultimatelist"
   ]
  },
  {
   "cell_type": "code",
   "execution_count": 33,
   "metadata": {},
   "outputs": [
    {
     "name": "stdout",
     "output_type": "stream",
     "text": [
      "1: \n",
      "0\n",
      "----------\n",
      "2: \n",
      "0\n",
      "----------\n",
      "3: \n",
      "0\n",
      "----------\n",
      "4: \n",
      "0\n",
      "----------\n",
      "5: \n",
      "0\n",
      "----------\n",
      "6: \n",
      "0\n",
      "----------\n"
     ]
    }
   ],
   "source": [
    "app_u = app_u.replace(to_replace = 'Adavesci_SRB_010',value = 'Adasevci_SRB_010')\n",
    "app_u = app_u.replace(to_replace = 'Andravida_GRE_008',value = 'Andravida_GRE_004')\n",
    "app_u['campfilename'] = app_u.campfilename.apply(str).str.strip()\n",
    "daily_u = daily_u.replace(to_replace = 'Adavesci_SRB_010',value = 'Adasevci_SRB_010')\n",
    "daily_u = daily_u.replace(to_replace = 'Alexandria_GRE_003',value = 'Alexandria-Ref_GRE_003')\n",
    "daily_u = daily_u.replace(to_replace = 'Andravida_GRE_008',value = 'Andravida_GRE_004')\n",
    "daily_u = daily_u.replace(to_replace = 'XXSouda_Samns_Purse',value = 'XXSouda-Samns-Purse_GRE_046')\n",
    "daily_u['campfilename'] = daily_u.campfilename.apply(str).str.strip()\n",
    "\n",
    "# .replace('Alexandria_GRE_003','Alexandria-Ref_GRE_003')\n",
    "dfsnocamp = [app_u,camp_d,daily_u,hourly_u,monthly_u,nationality]\n",
    "accum = 1\n",
    "for df in dfsnocamp:\n",
    "    df = df.replace(to_replace = 'Adavesci_SRB_010',value = 'Adasevci_SRB_010')\n",
    "    df = df.replace(to_replace = 'Alexandria_GRE_003',value = 'Alexandria-Ref_GRE_003')\n",
    "    df = df.replace(to_replace = 'Andravida_GRE_008',value = 'Andravida_GRE_004')\n",
    "    df = df.replace(to_replace = 'XXSouda_Samns_Purse',value = 'XXSouda-Samns-Purse_GRE_046')\n",
    "    df['campfilename'] = df.campfilename.apply(str).str.strip()\n",
    "    incorrect = incorrectnames(df)\n",
    "    print(str(accum)+': '+', '.join(incorrect))\n",
    "    print(len(incorrect))\n",
    "    print('-'*10)\n",
    "    accum+=1\n"
   ]
  },
  {
   "cell_type": "code",
   "execution_count": 35,
   "metadata": {},
   "outputs": [
    {
     "name": "stdout",
     "output_type": "stream",
     "text": [
      "success\n",
      "not working\n",
      "success\n",
      "success\n",
      "success\n",
      "success\n"
     ]
    }
   ],
   "source": [
    "dfsnocamp = [app_u,camp_d,daily_u,hourly_u,monthly_u,nationality]\n",
    "# app_u['cmy'] = camp.campfilename\n",
    "for camp in dfsnocamp:\n",
    "    try:\n",
    "        camp['cmy'] = camp.campfilename+camp['monthyear'].apply(str).str.zfill(6)\n",
    "        print('success')\n",
    "    except:\n",
    "        print('not working')"
   ]
  },
  {
   "cell_type": "code",
   "execution_count": 36,
   "metadata": {},
   "outputs": [
    {
     "data": {
      "text/html": [
       "<div>\n",
       "<style scoped>\n",
       "    .dataframe tbody tr th:only-of-type {\n",
       "        vertical-align: middle;\n",
       "    }\n",
       "\n",
       "    .dataframe tbody tr th {\n",
       "        vertical-align: top;\n",
       "    }\n",
       "\n",
       "    .dataframe thead th {\n",
       "        text-align: right;\n",
       "    }\n",
       "</style>\n",
       "<table border=\"1\" class=\"dataframe\">\n",
       "  <thead>\n",
       "    <tr style=\"text-align: right;\">\n",
       "      <th></th>\n",
       "      <th>campfilename</th>\n",
       "      <th>monthyear</th>\n",
       "      <th>appcat</th>\n",
       "      <th>totalusagekb</th>\n",
       "      <th>usageperc</th>\n",
       "      <th>cmy</th>\n",
       "    </tr>\n",
       "  </thead>\n",
       "  <tbody>\n",
       "    <tr>\n",
       "      <th>0</th>\n",
       "      <td>Adasevci_SRB_010</td>\n",
       "      <td>12018</td>\n",
       "      <td>Video</td>\n",
       "      <td>760645119</td>\n",
       "      <td>47</td>\n",
       "      <td>Adasevci_SRB_010012018</td>\n",
       "    </tr>\n",
       "    <tr>\n",
       "      <th>1</th>\n",
       "      <td>Adasevci_SRB_010</td>\n",
       "      <td>12018</td>\n",
       "      <td>Other</td>\n",
       "      <td>514896960</td>\n",
       "      <td>32</td>\n",
       "      <td>Adasevci_SRB_010012018</td>\n",
       "    </tr>\n",
       "    <tr>\n",
       "      <th>2</th>\n",
       "      <td>Adasevci_SRB_010</td>\n",
       "      <td>12018</td>\n",
       "      <td>Social web</td>\n",
       "      <td>306102192</td>\n",
       "      <td>19</td>\n",
       "      <td>Adasevci_SRB_010012018</td>\n",
       "    </tr>\n",
       "    <tr>\n",
       "      <th>3</th>\n",
       "      <td>Adasevci_SRB_010</td>\n",
       "      <td>12018</td>\n",
       "      <td>Music</td>\n",
       "      <td>13583101</td>\n",
       "      <td>0</td>\n",
       "      <td>Adasevci_SRB_010012018</td>\n",
       "    </tr>\n",
       "    <tr>\n",
       "      <th>4</th>\n",
       "      <td>Adasevci_SRB_010</td>\n",
       "      <td>12018</td>\n",
       "      <td>Email</td>\n",
       "      <td>2185162</td>\n",
       "      <td>0</td>\n",
       "      <td>Adasevci_SRB_010012018</td>\n",
       "    </tr>\n",
       "  </tbody>\n",
       "</table>\n",
       "</div>"
      ],
      "text/plain": [
       "       campfilename  monthyear      appcat  totalusagekb  usageperc  \\\n",
       "0  Adasevci_SRB_010      12018       Video     760645119         47   \n",
       "1  Adasevci_SRB_010      12018       Other     514896960         32   \n",
       "2  Adasevci_SRB_010      12018  Social web     306102192         19   \n",
       "3  Adasevci_SRB_010      12018       Music      13583101          0   \n",
       "4  Adasevci_SRB_010      12018       Email       2185162          0   \n",
       "\n",
       "                      cmy  \n",
       "0  Adasevci_SRB_010012018  \n",
       "1  Adasevci_SRB_010012018  \n",
       "2  Adasevci_SRB_010012018  \n",
       "3  Adasevci_SRB_010012018  \n",
       "4  Adasevci_SRB_010012018  "
      ]
     },
     "execution_count": 36,
     "metadata": {},
     "output_type": "execute_result"
    }
   ],
   "source": [
    "app_u.head()"
   ]
  },
  {
   "cell_type": "code",
   "execution_count": 39,
   "metadata": {},
   "outputs": [
    {
     "ename": "KeyError",
     "evalue": "'month'",
     "output_type": "error",
     "traceback": [
      "\u001b[1;31m---------------------------------------------------------------------------\u001b[0m",
      "\u001b[1;31mKeyError\u001b[0m                                  Traceback (most recent call last)",
      "\u001b[1;32m~\\Anaconda3\\lib\\site-packages\\pandas\\core\\indexes\\base.py\u001b[0m in \u001b[0;36mget_loc\u001b[1;34m(self, key, method, tolerance)\u001b[0m\n\u001b[0;32m   3077\u001b[0m             \u001b[1;32mtry\u001b[0m\u001b[1;33m:\u001b[0m\u001b[1;33m\u001b[0m\u001b[0m\n\u001b[1;32m-> 3078\u001b[1;33m                 \u001b[1;32mreturn\u001b[0m \u001b[0mself\u001b[0m\u001b[1;33m.\u001b[0m\u001b[0m_engine\u001b[0m\u001b[1;33m.\u001b[0m\u001b[0mget_loc\u001b[0m\u001b[1;33m(\u001b[0m\u001b[0mkey\u001b[0m\u001b[1;33m)\u001b[0m\u001b[1;33m\u001b[0m\u001b[0m\n\u001b[0m\u001b[0;32m   3079\u001b[0m             \u001b[1;32mexcept\u001b[0m \u001b[0mKeyError\u001b[0m\u001b[1;33m:\u001b[0m\u001b[1;33m\u001b[0m\u001b[0m\n",
      "\u001b[1;32mpandas\\_libs\\index.pyx\u001b[0m in \u001b[0;36mpandas._libs.index.IndexEngine.get_loc\u001b[1;34m()\u001b[0m\n",
      "\u001b[1;32mpandas\\_libs\\index.pyx\u001b[0m in \u001b[0;36mpandas._libs.index.IndexEngine.get_loc\u001b[1;34m()\u001b[0m\n",
      "\u001b[1;32mpandas\\_libs\\hashtable_class_helper.pxi\u001b[0m in \u001b[0;36mpandas._libs.hashtable.PyObjectHashTable.get_item\u001b[1;34m()\u001b[0m\n",
      "\u001b[1;32mpandas\\_libs\\hashtable_class_helper.pxi\u001b[0m in \u001b[0;36mpandas._libs.hashtable.PyObjectHashTable.get_item\u001b[1;34m()\u001b[0m\n",
      "\u001b[1;31mKeyError\u001b[0m: 'month'",
      "\nDuring handling of the above exception, another exception occurred:\n",
      "\u001b[1;31mKeyError\u001b[0m                                  Traceback (most recent call last)",
      "\u001b[1;32m<ipython-input-39-783bb21b5462>\u001b[0m in \u001b[0;36m<module>\u001b[1;34m()\u001b[0m\n\u001b[1;32m----> 1\u001b[1;33m \u001b[0mcamp_d\u001b[0m\u001b[1;33m[\u001b[0m\u001b[1;34m'monthyear'\u001b[0m\u001b[1;33m]\u001b[0m \u001b[1;33m=\u001b[0m \u001b[0mcamp\u001b[0m\u001b[1;33m[\u001b[0m\u001b[1;34m'month'\u001b[0m\u001b[1;33m]\u001b[0m\u001b[1;33m.\u001b[0m\u001b[0mapply\u001b[0m\u001b[1;33m(\u001b[0m\u001b[0mstr\u001b[0m\u001b[1;33m)\u001b[0m\u001b[1;33m.\u001b[0m\u001b[0mstr\u001b[0m\u001b[1;33m.\u001b[0m\u001b[0mzfill\u001b[0m\u001b[1;33m(\u001b[0m\u001b[1;36m2\u001b[0m\u001b[1;33m)\u001b[0m \u001b[1;33m+\u001b[0m \u001b[0mcamp\u001b[0m\u001b[1;33m.\u001b[0m\u001b[0myear\u001b[0m\u001b[1;33m.\u001b[0m\u001b[0mapply\u001b[0m\u001b[1;33m(\u001b[0m\u001b[0mstr\u001b[0m\u001b[1;33m)\u001b[0m\u001b[1;33m\u001b[0m\u001b[0m\n\u001b[0m\u001b[0;32m      2\u001b[0m \u001b[0mcamp_d\u001b[0m\u001b[1;33m[\u001b[0m\u001b[1;34m'cmy'\u001b[0m\u001b[1;33m]\u001b[0m \u001b[1;33m=\u001b[0m \u001b[0mcamp\u001b[0m\u001b[1;33m.\u001b[0m\u001b[0mcampfilename\u001b[0m \u001b[1;33m+\u001b[0m \u001b[0mcamp\u001b[0m\u001b[1;33m.\u001b[0m\u001b[0mmonthyear\u001b[0m\u001b[1;33m\u001b[0m\u001b[0m\n",
      "\u001b[1;32m~\\Anaconda3\\lib\\site-packages\\pandas\\core\\frame.py\u001b[0m in \u001b[0;36m__getitem__\u001b[1;34m(self, key)\u001b[0m\n\u001b[0;32m   2686\u001b[0m             \u001b[1;32mreturn\u001b[0m \u001b[0mself\u001b[0m\u001b[1;33m.\u001b[0m\u001b[0m_getitem_multilevel\u001b[0m\u001b[1;33m(\u001b[0m\u001b[0mkey\u001b[0m\u001b[1;33m)\u001b[0m\u001b[1;33m\u001b[0m\u001b[0m\n\u001b[0;32m   2687\u001b[0m         \u001b[1;32melse\u001b[0m\u001b[1;33m:\u001b[0m\u001b[1;33m\u001b[0m\u001b[0m\n\u001b[1;32m-> 2688\u001b[1;33m             \u001b[1;32mreturn\u001b[0m \u001b[0mself\u001b[0m\u001b[1;33m.\u001b[0m\u001b[0m_getitem_column\u001b[0m\u001b[1;33m(\u001b[0m\u001b[0mkey\u001b[0m\u001b[1;33m)\u001b[0m\u001b[1;33m\u001b[0m\u001b[0m\n\u001b[0m\u001b[0;32m   2689\u001b[0m \u001b[1;33m\u001b[0m\u001b[0m\n\u001b[0;32m   2690\u001b[0m     \u001b[1;32mdef\u001b[0m \u001b[0m_getitem_column\u001b[0m\u001b[1;33m(\u001b[0m\u001b[0mself\u001b[0m\u001b[1;33m,\u001b[0m \u001b[0mkey\u001b[0m\u001b[1;33m)\u001b[0m\u001b[1;33m:\u001b[0m\u001b[1;33m\u001b[0m\u001b[0m\n",
      "\u001b[1;32m~\\Anaconda3\\lib\\site-packages\\pandas\\core\\frame.py\u001b[0m in \u001b[0;36m_getitem_column\u001b[1;34m(self, key)\u001b[0m\n\u001b[0;32m   2693\u001b[0m         \u001b[1;31m# get column\u001b[0m\u001b[1;33m\u001b[0m\u001b[1;33m\u001b[0m\u001b[0m\n\u001b[0;32m   2694\u001b[0m         \u001b[1;32mif\u001b[0m \u001b[0mself\u001b[0m\u001b[1;33m.\u001b[0m\u001b[0mcolumns\u001b[0m\u001b[1;33m.\u001b[0m\u001b[0mis_unique\u001b[0m\u001b[1;33m:\u001b[0m\u001b[1;33m\u001b[0m\u001b[0m\n\u001b[1;32m-> 2695\u001b[1;33m             \u001b[1;32mreturn\u001b[0m \u001b[0mself\u001b[0m\u001b[1;33m.\u001b[0m\u001b[0m_get_item_cache\u001b[0m\u001b[1;33m(\u001b[0m\u001b[0mkey\u001b[0m\u001b[1;33m)\u001b[0m\u001b[1;33m\u001b[0m\u001b[0m\n\u001b[0m\u001b[0;32m   2696\u001b[0m \u001b[1;33m\u001b[0m\u001b[0m\n\u001b[0;32m   2697\u001b[0m         \u001b[1;31m# duplicate columns & possible reduce dimensionality\u001b[0m\u001b[1;33m\u001b[0m\u001b[1;33m\u001b[0m\u001b[0m\n",
      "\u001b[1;32m~\\Anaconda3\\lib\\site-packages\\pandas\\core\\generic.py\u001b[0m in \u001b[0;36m_get_item_cache\u001b[1;34m(self, item)\u001b[0m\n\u001b[0;32m   2487\u001b[0m         \u001b[0mres\u001b[0m \u001b[1;33m=\u001b[0m \u001b[0mcache\u001b[0m\u001b[1;33m.\u001b[0m\u001b[0mget\u001b[0m\u001b[1;33m(\u001b[0m\u001b[0mitem\u001b[0m\u001b[1;33m)\u001b[0m\u001b[1;33m\u001b[0m\u001b[0m\n\u001b[0;32m   2488\u001b[0m         \u001b[1;32mif\u001b[0m \u001b[0mres\u001b[0m \u001b[1;32mis\u001b[0m \u001b[1;32mNone\u001b[0m\u001b[1;33m:\u001b[0m\u001b[1;33m\u001b[0m\u001b[0m\n\u001b[1;32m-> 2489\u001b[1;33m             \u001b[0mvalues\u001b[0m \u001b[1;33m=\u001b[0m \u001b[0mself\u001b[0m\u001b[1;33m.\u001b[0m\u001b[0m_data\u001b[0m\u001b[1;33m.\u001b[0m\u001b[0mget\u001b[0m\u001b[1;33m(\u001b[0m\u001b[0mitem\u001b[0m\u001b[1;33m)\u001b[0m\u001b[1;33m\u001b[0m\u001b[0m\n\u001b[0m\u001b[0;32m   2490\u001b[0m             \u001b[0mres\u001b[0m \u001b[1;33m=\u001b[0m \u001b[0mself\u001b[0m\u001b[1;33m.\u001b[0m\u001b[0m_box_item_values\u001b[0m\u001b[1;33m(\u001b[0m\u001b[0mitem\u001b[0m\u001b[1;33m,\u001b[0m \u001b[0mvalues\u001b[0m\u001b[1;33m)\u001b[0m\u001b[1;33m\u001b[0m\u001b[0m\n\u001b[0;32m   2491\u001b[0m             \u001b[0mcache\u001b[0m\u001b[1;33m[\u001b[0m\u001b[0mitem\u001b[0m\u001b[1;33m]\u001b[0m \u001b[1;33m=\u001b[0m \u001b[0mres\u001b[0m\u001b[1;33m\u001b[0m\u001b[0m\n",
      "\u001b[1;32m~\\Anaconda3\\lib\\site-packages\\pandas\\core\\internals.py\u001b[0m in \u001b[0;36mget\u001b[1;34m(self, item, fastpath)\u001b[0m\n\u001b[0;32m   4113\u001b[0m \u001b[1;33m\u001b[0m\u001b[0m\n\u001b[0;32m   4114\u001b[0m             \u001b[1;32mif\u001b[0m \u001b[1;32mnot\u001b[0m \u001b[0misna\u001b[0m\u001b[1;33m(\u001b[0m\u001b[0mitem\u001b[0m\u001b[1;33m)\u001b[0m\u001b[1;33m:\u001b[0m\u001b[1;33m\u001b[0m\u001b[0m\n\u001b[1;32m-> 4115\u001b[1;33m                 \u001b[0mloc\u001b[0m \u001b[1;33m=\u001b[0m \u001b[0mself\u001b[0m\u001b[1;33m.\u001b[0m\u001b[0mitems\u001b[0m\u001b[1;33m.\u001b[0m\u001b[0mget_loc\u001b[0m\u001b[1;33m(\u001b[0m\u001b[0mitem\u001b[0m\u001b[1;33m)\u001b[0m\u001b[1;33m\u001b[0m\u001b[0m\n\u001b[0m\u001b[0;32m   4116\u001b[0m             \u001b[1;32melse\u001b[0m\u001b[1;33m:\u001b[0m\u001b[1;33m\u001b[0m\u001b[0m\n\u001b[0;32m   4117\u001b[0m                 \u001b[0mindexer\u001b[0m \u001b[1;33m=\u001b[0m \u001b[0mnp\u001b[0m\u001b[1;33m.\u001b[0m\u001b[0marange\u001b[0m\u001b[1;33m(\u001b[0m\u001b[0mlen\u001b[0m\u001b[1;33m(\u001b[0m\u001b[0mself\u001b[0m\u001b[1;33m.\u001b[0m\u001b[0mitems\u001b[0m\u001b[1;33m)\u001b[0m\u001b[1;33m)\u001b[0m\u001b[1;33m[\u001b[0m\u001b[0misna\u001b[0m\u001b[1;33m(\u001b[0m\u001b[0mself\u001b[0m\u001b[1;33m.\u001b[0m\u001b[0mitems\u001b[0m\u001b[1;33m)\u001b[0m\u001b[1;33m]\u001b[0m\u001b[1;33m\u001b[0m\u001b[0m\n",
      "\u001b[1;32m~\\Anaconda3\\lib\\site-packages\\pandas\\core\\indexes\\base.py\u001b[0m in \u001b[0;36mget_loc\u001b[1;34m(self, key, method, tolerance)\u001b[0m\n\u001b[0;32m   3078\u001b[0m                 \u001b[1;32mreturn\u001b[0m \u001b[0mself\u001b[0m\u001b[1;33m.\u001b[0m\u001b[0m_engine\u001b[0m\u001b[1;33m.\u001b[0m\u001b[0mget_loc\u001b[0m\u001b[1;33m(\u001b[0m\u001b[0mkey\u001b[0m\u001b[1;33m)\u001b[0m\u001b[1;33m\u001b[0m\u001b[0m\n\u001b[0;32m   3079\u001b[0m             \u001b[1;32mexcept\u001b[0m \u001b[0mKeyError\u001b[0m\u001b[1;33m:\u001b[0m\u001b[1;33m\u001b[0m\u001b[0m\n\u001b[1;32m-> 3080\u001b[1;33m                 \u001b[1;32mreturn\u001b[0m \u001b[0mself\u001b[0m\u001b[1;33m.\u001b[0m\u001b[0m_engine\u001b[0m\u001b[1;33m.\u001b[0m\u001b[0mget_loc\u001b[0m\u001b[1;33m(\u001b[0m\u001b[0mself\u001b[0m\u001b[1;33m.\u001b[0m\u001b[0m_maybe_cast_indexer\u001b[0m\u001b[1;33m(\u001b[0m\u001b[0mkey\u001b[0m\u001b[1;33m)\u001b[0m\u001b[1;33m)\u001b[0m\u001b[1;33m\u001b[0m\u001b[0m\n\u001b[0m\u001b[0;32m   3081\u001b[0m \u001b[1;33m\u001b[0m\u001b[0m\n\u001b[0;32m   3082\u001b[0m         \u001b[0mindexer\u001b[0m \u001b[1;33m=\u001b[0m \u001b[0mself\u001b[0m\u001b[1;33m.\u001b[0m\u001b[0mget_indexer\u001b[0m\u001b[1;33m(\u001b[0m\u001b[1;33m[\u001b[0m\u001b[0mkey\u001b[0m\u001b[1;33m]\u001b[0m\u001b[1;33m,\u001b[0m \u001b[0mmethod\u001b[0m\u001b[1;33m=\u001b[0m\u001b[0mmethod\u001b[0m\u001b[1;33m,\u001b[0m \u001b[0mtolerance\u001b[0m\u001b[1;33m=\u001b[0m\u001b[0mtolerance\u001b[0m\u001b[1;33m)\u001b[0m\u001b[1;33m\u001b[0m\u001b[0m\n",
      "\u001b[1;32mpandas\\_libs\\index.pyx\u001b[0m in \u001b[0;36mpandas._libs.index.IndexEngine.get_loc\u001b[1;34m()\u001b[0m\n",
      "\u001b[1;32mpandas\\_libs\\index.pyx\u001b[0m in \u001b[0;36mpandas._libs.index.IndexEngine.get_loc\u001b[1;34m()\u001b[0m\n",
      "\u001b[1;32mpandas\\_libs\\hashtable_class_helper.pxi\u001b[0m in \u001b[0;36mpandas._libs.hashtable.PyObjectHashTable.get_item\u001b[1;34m()\u001b[0m\n",
      "\u001b[1;32mpandas\\_libs\\hashtable_class_helper.pxi\u001b[0m in \u001b[0;36mpandas._libs.hashtable.PyObjectHashTable.get_item\u001b[1;34m()\u001b[0m\n",
      "\u001b[1;31mKeyError\u001b[0m: 'month'"
     ]
    }
   ],
   "source": [
    "camp_d['monthyear'] = camp['month'].apply(str).str.zfill(2) + camp.year.apply(str)\n",
    "camp_d['cmy'] = camp.campfilename + camp.monthyear"
   ]
  },
  {
   "cell_type": "code",
   "execution_count": null,
   "metadata": {},
   "outputs": [],
   "source": []
  }
 ],
 "metadata": {
  "kernelspec": {
   "display_name": "Python 3",
   "language": "python",
   "name": "python3"
  },
  "language_info": {
   "codemirror_mode": {
    "name": "ipython",
    "version": 3
   },
   "file_extension": ".py",
   "mimetype": "text/x-python",
   "name": "python",
   "nbconvert_exporter": "python",
   "pygments_lexer": "ipython3",
   "version": "3.6.5"
  }
 },
 "nbformat": 4,
 "nbformat_minor": 2
}
